{
 "cells": [
  {
   "cell_type": "code",
   "execution_count": 1,
   "metadata": {},
   "outputs": [
    {
     "name": "stderr",
     "output_type": "stream",
     "text": [
      "Using TensorFlow backend.\n"
     ]
    }
   ],
   "source": [
    "%matplotlib inline\n",
    "#-*- coding: UTF-8 -*-\n",
    "import sys\n",
    "import statsmodels as ss\n",
    "import numpy as np\n",
    "import matplotlib\n",
    "import matplotlib.mlab as mlab\n",
    "import matplotlib.pyplot as plt\n",
    "import pandas as pd \n",
    "import seaborn as sns\n",
    "import keras.models\n",
    "import os\n",
    "import cv2\n",
    "from sklearn.preprocessing import LabelEncoder   \n",
    "from keras.models import Sequential\n",
    "from keras.layers import Dense, Activation, Conv2D, Flatten, MaxPooling2D, Dropout, LSTM, TimeDistributed\n",
    "from keras.optimizers import Adam\n",
    "from keras.callbacks import EarlyStopping, ModelCheckpoint"
   ]
  },
  {
   "cell_type": "code",
   "execution_count": 2,
   "metadata": {},
   "outputs": [],
   "source": [
    "df_0050 = pd.read_csv('./股票/0050.csv',encoding=\"big5\")    #big5 is a Chinese character encoding method for traditional Chinese characters.\n",
    "df_0050 = pd.DataFrame(df_0050)"
   ]
  },
  {
   "cell_type": "code",
   "execution_count": 3,
   "metadata": {},
   "outputs": [],
   "source": [
    "df_2317 = pd.read_csv('./股票/2317.csv',encoding=\"big5\")\n",
    "df_2317 = pd.DataFrame(df_2317)"
   ]
  },
  {
   "cell_type": "code",
   "execution_count": 4,
   "metadata": {},
   "outputs": [],
   "source": [
    "df_2330 = pd.read_csv('./股票/2330.csv',encoding=\"big5\")\n",
    "df_2330 = pd.DataFrame(df_2330)"
   ]
  },
  {
   "cell_type": "code",
   "execution_count": 5,
   "metadata": {},
   "outputs": [
    {
     "name": "stdout",
     "output_type": "stream",
     "text": [
      "(1373, 5)\n"
     ]
    }
   ],
   "source": [
    "# df_train = df_0050.append(df_2317)\n",
    "# df_train = df_train.append(df_2330)\n",
    "df_train = df_0050\n",
    "print(df_train.shape)"
   ]
  },
  {
   "cell_type": "code",
   "execution_count": 6,
   "metadata": {},
   "outputs": [
    {
     "name": "stdout",
     "output_type": "stream",
     "text": [
      "      startPrice  lowPrice  highPrice  endPrice\n",
      "0          54.00     53.90      54.65     54.40\n",
      "1          54.90     54.65      55.05     54.85\n",
      "2          54.85     54.40      54.85     54.50\n",
      "3          54.55     53.90      54.55     54.25\n",
      "4          54.00     53.65      54.20     53.90\n",
      "5          53.75     53.75      54.30     54.10\n",
      "6          54.30     54.15      54.65     54.50\n",
      "7          54.70     54.35      54.80     54.45\n",
      "8          54.00     53.80      54.50     54.50\n",
      "9          54.20     53.90      54.45     54.00\n",
      "10         54.05     53.70      54.05     53.70\n",
      "11         53.90     53.20      54.20     53.30\n",
      "12         53.95     53.70      53.95     53.95\n",
      "13         53.95     53.55      54.05     53.90\n",
      "14         54.30     53.70      54.30     54.05\n",
      "15         54.20     53.90      54.30     54.00\n",
      "16         53.75     53.25      53.90     53.70\n",
      "17         53.65     53.20      53.70     53.50\n",
      "18         53.70     53.65      53.95     53.75\n",
      "19         53.95     53.95      54.50     54.50\n",
      "20         54.50     54.45      54.75     54.60\n",
      "21         54.50     54.30      54.60     54.60\n",
      "22         54.70     54.60      54.85     54.80\n",
      "23         54.85     54.85      55.40     55.20\n",
      "24         54.90     54.90      55.10     55.00\n",
      "25         55.20     55.20      55.50     55.40\n",
      "26         55.50     55.45      55.90     55.60\n",
      "27         55.60     55.55      55.75     55.65\n",
      "28         55.90     55.90      56.20     56.10\n",
      "29         55.90     55.70      56.05     55.70\n",
      "...          ...       ...        ...       ...\n",
      "1343       80.75     80.30      80.90     80.40\n",
      "1344       80.05     79.80      80.40     80.05\n",
      "1345       80.30     80.20      81.55     81.45\n",
      "1346       81.50     81.00      81.90     81.05\n",
      "1347       81.30     80.60      81.95     81.15\n",
      "1348       81.15     81.10      81.60     81.40\n",
      "1349       81.45     80.60      81.45     80.75\n",
      "1350       81.10     80.20      81.15     80.95\n",
      "1351       81.75     81.55      82.45     82.25\n",
      "1352       82.65     82.35      82.80     82.45\n",
      "1353       81.70     81.30      81.90     81.70\n",
      "1354       81.60     81.50      82.65     82.65\n",
      "1355       83.00     82.80      83.40     83.35\n",
      "1356       83.30     83.00      83.45     83.00\n",
      "1357       82.85     82.40      82.85     82.55\n",
      "1358       83.15     82.95      83.50     83.05\n",
      "1359       83.10     83.05      83.80     83.30\n",
      "1360       84.00     84.00      84.70     84.65\n",
      "1361       84.30     83.85      84.75     84.55\n",
      "1362       84.45     84.15      84.70     84.70\n",
      "1363       84.05     84.05      84.85     84.75\n",
      "1364       84.75     84.75      85.25     85.00\n",
      "1365       85.10     85.10      85.75     85.70\n",
      "1366       85.65     85.40      85.90     85.55\n",
      "1367       85.35     85.05      85.70     85.55\n",
      "1368       85.80     85.80      86.20     86.15\n",
      "1369       86.10     84.85      86.15     84.85\n",
      "1370       85.40     85.35      85.70     85.55\n",
      "1371       85.55     85.35      86.10     85.70\n",
      "1372       85.70     85.40      85.80     85.50\n",
      "\n",
      "[1373 rows x 4 columns]\n",
      "0       54.40\n",
      "1       54.85\n",
      "2       54.50\n",
      "3       54.25\n",
      "4       53.90\n",
      "5       54.10\n",
      "6       54.50\n",
      "7       54.45\n",
      "8       54.50\n",
      "9       54.00\n",
      "10      53.70\n",
      "11      53.30\n",
      "12      53.95\n",
      "13      53.90\n",
      "14      54.05\n",
      "15      54.00\n",
      "16      53.70\n",
      "17      53.50\n",
      "18      53.75\n",
      "19      54.50\n",
      "20      54.60\n",
      "21      54.60\n",
      "22      54.80\n",
      "23      55.20\n",
      "24      55.00\n",
      "25      55.40\n",
      "26      55.60\n",
      "27      55.65\n",
      "28      56.10\n",
      "29      55.70\n",
      "        ...  \n",
      "1343    80.40\n",
      "1344    80.05\n",
      "1345    81.45\n",
      "1346    81.05\n",
      "1347    81.15\n",
      "1348    81.40\n",
      "1349    80.75\n",
      "1350    80.95\n",
      "1351    82.25\n",
      "1352    82.45\n",
      "1353    81.70\n",
      "1354    82.65\n",
      "1355    83.35\n",
      "1356    83.00\n",
      "1357    82.55\n",
      "1358    83.05\n",
      "1359    83.30\n",
      "1360    84.65\n",
      "1361    84.55\n",
      "1362    84.70\n",
      "1363    84.75\n",
      "1364    85.00\n",
      "1365    85.70\n",
      "1366    85.55\n",
      "1367    85.55\n",
      "1368    86.15\n",
      "1369    84.85\n",
      "1370    85.55\n",
      "1371    85.70\n",
      "1372    85.50\n",
      "Name: endPrice, Length: 1373, dtype: float64\n"
     ]
    }
   ],
   "source": [
    "df_train.reset_index(inplace=True, drop=True)\n",
    "df_train[\"date\"] = pd.to_datetime(df_train[\"date\"])\n",
    "df_train = df_train.drop([\"date\"], axis=1)\n",
    "print(df_train)\n",
    "df_test = df_train['endPrice']\n",
    "print(df_test)"
   ]
  },
  {
   "cell_type": "code",
   "execution_count": 7,
   "metadata": {},
   "outputs": [
    {
     "name": "stdout",
     "output_type": "stream",
     "text": [
      "[[0.02014388 0.02718169 0.03295129 0.03966006]\n",
      " [0.04604317 0.04864092 0.04441261 0.05240793]\n",
      " [0.04460432 0.04148784 0.03868195 0.04249292]\n",
      " ...\n",
      " [0.92374101 0.92703863 0.9226361  0.92209632]\n",
      " [0.92805755 0.92703863 0.93409742 0.92634561]\n",
      " [0.9323741  0.92846924 0.92550143 0.92067989]]\n",
      "[[0.03966006]\n",
      " [0.05240793]\n",
      " [0.04249292]\n",
      " ...\n",
      " [0.92209632]\n",
      " [0.92634561]\n",
      " [0.92067989]]\n"
     ]
    }
   ],
   "source": [
    "# Feature Scaling\n",
    "from sklearn.preprocessing import MinMaxScaler\n",
    "\n",
    "sc = MinMaxScaler(feature_range = (0, 1))\n",
    "df_train = sc.fit_transform(df_train)\n",
    "df_test = np.array(df_test).reshape(-1, 1)\n",
    "df_test = sc.fit_transform(df_test)\n",
    "print(df_train)\n",
    "print(df_test)"
   ]
  },
  {
   "cell_type": "code",
   "execution_count": 8,
   "metadata": {},
   "outputs": [
    {
     "name": "stdout",
     "output_type": "stream",
     "text": [
      "[[[0.02014388 0.02718169 0.03295129 0.03966006]\n",
      "  [0.04604317 0.04864092 0.04441261 0.05240793]\n",
      "  [0.04460432 0.04148784 0.03868195 0.04249292]]\n",
      "\n",
      " [[0.04604317 0.04864092 0.04441261 0.05240793]\n",
      "  [0.04460432 0.04148784 0.03868195 0.04249292]\n",
      "  [0.03597122 0.02718169 0.03008596 0.03541076]]\n",
      "\n",
      " [[0.04460432 0.04148784 0.03868195 0.04249292]\n",
      "  [0.03597122 0.02718169 0.03008596 0.03541076]\n",
      "  [0.02014388 0.02002861 0.02005731 0.02549575]]\n",
      "\n",
      " ...\n",
      "\n",
      " [[0.92230216 0.91845494 0.9226361  0.92209632]\n",
      "  [0.9352518  0.93991416 0.93696275 0.93909348]\n",
      "  [0.94388489 0.91273247 0.93553009 0.90226629]]\n",
      "\n",
      " [[0.9352518  0.93991416 0.93696275 0.93909348]\n",
      "  [0.94388489 0.91273247 0.93553009 0.90226629]\n",
      "  [0.92374101 0.92703863 0.9226361  0.92209632]]\n",
      "\n",
      " [[0.94388489 0.91273247 0.93553009 0.90226629]\n",
      "  [0.92374101 0.92703863 0.9226361  0.92209632]\n",
      "  [0.92805755 0.92703863 0.93409742 0.92634561]]]\n"
     ]
    }
   ],
   "source": [
    "X, y = [], []\n",
    "for i in range(0, len(df_train)-3):\n",
    "    X.append(df_train[i:i+3])\n",
    "    y.append(df_test[i+3])\n",
    "\n",
    "X = np.array(X)\n",
    "y = np.array(y)\n",
    "print(X)"
   ]
  },
  {
   "cell_type": "code",
   "execution_count": 9,
   "metadata": {},
   "outputs": [
    {
     "name": "stdout",
     "output_type": "stream",
     "text": [
      "[[0.02733813 0.03719599 0.05730659 0.0694051 ]\n",
      " [0.0647482  0.06723891 0.06160458 0.06798867]\n",
      " [0.06043165 0.05722461 0.05444126 0.05949008]]\n"
     ]
    }
   ],
   "source": [
    "rate = 0.05\n",
    "X_train = [] \n",
    "y_train = []\n",
    "X_test = [] \n",
    "y_test = []\n",
    "\n",
    "X_train = X[int(X.shape[0]*rate):]\n",
    "y_train = y[int(y.shape[0]*rate):]\n",
    "X_test = X[:int(X.shape[0]*rate)]\n",
    "y_test = y[:int(y.shape[0]*rate)]\n",
    "print(X_train[0])"
   ]
  },
  {
   "cell_type": "code",
   "execution_count": 10,
   "metadata": {},
   "outputs": [
    {
     "name": "stdout",
     "output_type": "stream",
     "text": [
      "[[0.02014388 0.02718169 0.03295129 0.03966006]\n",
      " [0.04604317 0.04864092 0.04441261 0.05240793]\n",
      " [0.04460432 0.04148784 0.03868195 0.04249292]]\n",
      "[0.03541076]\n"
     ]
    }
   ],
   "source": [
    "print(X_test[0])\n",
    "print(y_test[0])"
   ]
  },
  {
   "cell_type": "code",
   "execution_count": 11,
   "metadata": {},
   "outputs": [
    {
     "name": "stderr",
     "output_type": "stream",
     "text": [
      "WARNING: Logging before flag parsing goes to stderr.\n",
      "W0807 15:42:06.417103 4521977280 deprecation_wrapper.py:119] From /Users/hauyuan/anaconda3/lib/python3.6/site-packages/keras/backend/tensorflow_backend.py:74: The name tf.get_default_graph is deprecated. Please use tf.compat.v1.get_default_graph instead.\n",
      "\n"
     ]
    }
   ],
   "source": [
    "# Initialising the RNN\n",
    "regressor = Sequential()"
   ]
  },
  {
   "cell_type": "code",
   "execution_count": 12,
   "metadata": {},
   "outputs": [
    {
     "name": "stderr",
     "output_type": "stream",
     "text": [
      "W0807 15:42:06.519804 4521977280 deprecation_wrapper.py:119] From /Users/hauyuan/anaconda3/lib/python3.6/site-packages/keras/backend/tensorflow_backend.py:517: The name tf.placeholder is deprecated. Please use tf.compat.v1.placeholder instead.\n",
      "\n",
      "W0807 15:42:06.529848 4521977280 deprecation_wrapper.py:119] From /Users/hauyuan/anaconda3/lib/python3.6/site-packages/keras/backend/tensorflow_backend.py:4138: The name tf.random_uniform is deprecated. Please use tf.random.uniform instead.\n",
      "\n",
      "W0807 15:42:07.391467 4521977280 deprecation_wrapper.py:119] From /Users/hauyuan/anaconda3/lib/python3.6/site-packages/keras/backend/tensorflow_backend.py:133: The name tf.placeholder_with_default is deprecated. Please use tf.compat.v1.placeholder_with_default instead.\n",
      "\n",
      "W0807 15:42:07.413040 4521977280 deprecation.py:506] From /Users/hauyuan/anaconda3/lib/python3.6/site-packages/keras/backend/tensorflow_backend.py:3445: calling dropout (from tensorflow.python.ops.nn_ops) with keep_prob is deprecated and will be removed in a future version.\n",
      "Instructions for updating:\n",
      "Please use `rate` instead of `keep_prob`. Rate should be set to `rate = 1 - keep_prob`.\n"
     ]
    }
   ],
   "source": [
    "# Adding the first LSTM layer and some Dropout regularisation\n",
    "regressor.add(LSTM(units = 50, return_sequences = True, input_shape = (X_train.shape[1], X_train.shape[2])))\n",
    "regressor.add(Dropout(0.2))\n",
    "\n",
    "# Adding a second LSTM layer and some Dropout regularisation\n",
    "regressor.add(LSTM(units = 50, return_sequences = True))\n",
    "regressor.add(Dropout(0.2))\n",
    "\n",
    "# Adding a third LSTM layer and some Dropout regularisation\n",
    "regressor.add(LSTM(units = 50, return_sequences = True))\n",
    "regressor.add(Dropout(0.2))\n",
    "\n",
    "# Adding a fourth LSTM layer and some Dropout regularisation\n",
    "regressor.add(LSTM(units = 50, return_sequences = True))\n",
    "regressor.add(Dropout(0.2))\n",
    "\n",
    "# Adding a fifth LSTM layer and some Dropout regularisation\n",
    "regressor.add(LSTM(units = 50, return_sequences = True))\n",
    "regressor.add(Dropout(0.2))\n",
    "\n",
    "# Adding a sixth LSTM layer and some Dropout regularisation\n",
    "regressor.add(LSTM(units = 50))\n",
    "regressor.add(Dropout(0.2))\n",
    "\n",
    "# Adding the output layer\n",
    "regressor.add(Dense(units = 1))"
   ]
  },
  {
   "cell_type": "code",
   "execution_count": 13,
   "metadata": {},
   "outputs": [
    {
     "name": "stderr",
     "output_type": "stream",
     "text": [
      "W0807 15:42:09.827864 4521977280 deprecation_wrapper.py:119] From /Users/hauyuan/anaconda3/lib/python3.6/site-packages/keras/optimizers.py:790: The name tf.train.Optimizer is deprecated. Please use tf.compat.v1.train.Optimizer instead.\n",
      "\n",
      "W0807 15:42:10.577161 4521977280 deprecation.py:323] From /Users/hauyuan/anaconda3/lib/python3.6/site-packages/tensorflow/python/ops/math_grad.py:1250: add_dispatch_support.<locals>.wrapper (from tensorflow.python.ops.array_ops) is deprecated and will be removed in a future version.\n",
      "Instructions for updating:\n",
      "Use tf.where in 2.0, which has the same broadcast rule as np.where\n",
      "W0807 15:42:19.208714 4521977280 deprecation_wrapper.py:119] From /Users/hauyuan/anaconda3/lib/python3.6/site-packages/keras/backend/tensorflow_backend.py:986: The name tf.assign_add is deprecated. Please use tf.compat.v1.assign_add instead.\n",
      "\n"
     ]
    },
    {
     "name": "stdout",
     "output_type": "stream",
     "text": [
      "Epoch 1/100\n",
      "1302/1302 [==============================] - 11s 8ms/step - loss: 0.1170\n",
      "Epoch 2/100\n",
      "1302/1302 [==============================] - 1s 871us/step - loss: 0.0170\n",
      "Epoch 3/100\n",
      "1302/1302 [==============================] - 1s 870us/step - loss: 0.0058\n",
      "Epoch 4/100\n",
      "1302/1302 [==============================] - 1s 841us/step - loss: 0.0049\n",
      "Epoch 5/100\n",
      "1302/1302 [==============================] - 1s 930us/step - loss: 0.0044\n",
      "Epoch 6/100\n",
      "1302/1302 [==============================] - 1s 881us/step - loss: 0.0038\n",
      "Epoch 7/100\n",
      "1302/1302 [==============================] - 1s 876us/step - loss: 0.0039\n",
      "Epoch 8/100\n",
      "1302/1302 [==============================] - 1s 817us/step - loss: 0.0035\n",
      "Epoch 9/100\n",
      "1302/1302 [==============================] - 1s 907us/step - loss: 0.0036\n",
      "Epoch 10/100\n",
      "1302/1302 [==============================] - 1s 804us/step - loss: 0.0033\n",
      "Epoch 11/100\n",
      "1302/1302 [==============================] - 1s 810us/step - loss: 0.0033\n",
      "Epoch 12/100\n",
      "1302/1302 [==============================] - 1s 807us/step - loss: 0.0028\n",
      "Epoch 13/100\n",
      "1302/1302 [==============================] - 1s 942us/step - loss: 0.0030\n",
      "Epoch 14/100\n",
      "1302/1302 [==============================] - 1s 1ms/step - loss: 0.0031\n",
      "Epoch 15/100\n",
      "1302/1302 [==============================] - 1s 1ms/step - loss: 0.0029\n",
      "Epoch 16/100\n",
      "1302/1302 [==============================] - 1s 1ms/step - loss: 0.0027\n",
      "Epoch 17/100\n",
      "1302/1302 [==============================] - 1s 1ms/step - loss: 0.0026\n",
      "Epoch 18/100\n",
      "1302/1302 [==============================] - 1s 948us/step - loss: 0.0029\n",
      "Epoch 19/100\n",
      "1302/1302 [==============================] - 1s 998us/step - loss: 0.0027\n",
      "Epoch 20/100\n",
      "1302/1302 [==============================] - 1s 1ms/step - loss: 0.0028\n",
      "Epoch 21/100\n",
      "1302/1302 [==============================] - 1s 964us/step - loss: 0.0027\n",
      "Epoch 22/100\n",
      "1302/1302 [==============================] - 1s 929us/step - loss: 0.0028\n",
      "Epoch 23/100\n",
      "1302/1302 [==============================] - 1s 951us/step - loss: 0.0025\n",
      "Epoch 24/100\n",
      "1302/1302 [==============================] - 1s 901us/step - loss: 0.0026\n",
      "Epoch 25/100\n",
      "1302/1302 [==============================] - 1s 946us/step - loss: 0.0023\n",
      "Epoch 26/100\n",
      "1302/1302 [==============================] - 1s 940us/step - loss: 0.0022\n",
      "Epoch 27/100\n",
      "1302/1302 [==============================] - 1s 918us/step - loss: 0.0023\n",
      "Epoch 28/100\n",
      "1302/1302 [==============================] - 1s 973us/step - loss: 0.0024\n",
      "Epoch 29/100\n",
      "1302/1302 [==============================] - 1s 948us/step - loss: 0.0023\n",
      "Epoch 30/100\n",
      "1302/1302 [==============================] - 1s 974us/step - loss: 0.0024\n",
      "Epoch 31/100\n",
      "1302/1302 [==============================] - 1s 897us/step - loss: 0.0023\n",
      "Epoch 32/100\n",
      "1302/1302 [==============================] - 1s 956us/step - loss: 0.0026\n",
      "Epoch 33/100\n",
      "1302/1302 [==============================] - 1s 899us/step - loss: 0.0023\n",
      "Epoch 34/100\n",
      "1302/1302 [==============================] - 1s 891us/step - loss: 0.0023\n",
      "Epoch 35/100\n",
      "1302/1302 [==============================] - 1s 909us/step - loss: 0.0021\n",
      "Epoch 36/100\n",
      "1302/1302 [==============================] - 1s 1ms/step - loss: 0.0023\n",
      "Epoch 37/100\n",
      "1302/1302 [==============================] - 1s 1ms/step - loss: 0.0023\n",
      "Epoch 38/100\n",
      "1302/1302 [==============================] - 1s 1ms/step - loss: 0.0026\n",
      "Epoch 39/100\n",
      "1302/1302 [==============================] - 1s 921us/step - loss: 0.0022\n",
      "Epoch 40/100\n",
      "1302/1302 [==============================] - 1s 988us/step - loss: 0.0025\n",
      "Epoch 41/100\n",
      "1302/1302 [==============================] - 1s 920us/step - loss: 0.0022\n",
      "Epoch 42/100\n",
      "1302/1302 [==============================] - 1s 920us/step - loss: 0.0021\n",
      "Epoch 43/100\n",
      "1302/1302 [==============================] - 1s 984us/step - loss: 0.0022\n",
      "Epoch 44/100\n",
      "1302/1302 [==============================] - 1s 913us/step - loss: 0.0020\n",
      "Epoch 45/100\n",
      "1302/1302 [==============================] - 1s 899us/step - loss: 0.0021\n",
      "Epoch 46/100\n",
      "1302/1302 [==============================] - 1s 963us/step - loss: 0.0021\n",
      "Epoch 47/100\n",
      "1302/1302 [==============================] - 1s 926us/step - loss: 0.0021\n",
      "Epoch 48/100\n",
      "1302/1302 [==============================] - 1s 894us/step - loss: 0.0021\n",
      "Epoch 49/100\n",
      "1302/1302 [==============================] - 1s 884us/step - loss: 0.0019\n",
      "Epoch 50/100\n",
      "1302/1302 [==============================] - 1s 878us/step - loss: 0.0022\n",
      "Epoch 51/100\n",
      "1302/1302 [==============================] - 1s 987us/step - loss: 0.0019\n",
      "Epoch 52/100\n",
      "1302/1302 [==============================] - 1s 1ms/step - loss: 0.0021A: 0s - loss: 0.\n",
      "Epoch 53/100\n",
      "1302/1302 [==============================] - 1s 1ms/step - loss: 0.0019\n",
      "Epoch 54/100\n",
      "1302/1302 [==============================] - 1s 1ms/step - loss: 0.0021\n",
      "Epoch 55/100\n",
      "1302/1302 [==============================] - 1s 931us/step - loss: 0.0020\n",
      "Epoch 56/100\n",
      "1302/1302 [==============================] - 1s 904us/step - loss: 0.0017\n",
      "Epoch 57/100\n",
      "1302/1302 [==============================] - 1s 937us/step - loss: 0.0019\n",
      "Epoch 58/100\n",
      "1302/1302 [==============================] - 1s 972us/step - loss: 0.0019\n",
      "Epoch 59/100\n",
      "1302/1302 [==============================] - 1s 982us/step - loss: 0.0021\n",
      "Epoch 60/100\n",
      "1302/1302 [==============================] - 1s 1ms/step - loss: 0.0019\n",
      "Epoch 61/100\n",
      "1302/1302 [==============================] - 1s 1ms/step - loss: 0.0019\n",
      "Epoch 62/100\n",
      "1302/1302 [==============================] - 1s 1ms/step - loss: 0.0019\n",
      "Epoch 63/100\n",
      "1302/1302 [==============================] - 1s 955us/step - loss: 0.0019\n",
      "Epoch 64/100\n",
      "1302/1302 [==============================] - 1s 1ms/step - loss: 0.0018\n",
      "Epoch 65/100\n",
      "1302/1302 [==============================] - 1s 962us/step - loss: 0.0018\n",
      "Epoch 66/100\n",
      "1302/1302 [==============================] - 1s 930us/step - loss: 0.0017\n",
      "Epoch 67/100\n",
      "1302/1302 [==============================] - 1s 905us/step - loss: 0.0017\n",
      "Epoch 68/100\n",
      "1302/1302 [==============================] - 1s 896us/step - loss: 0.0018\n",
      "Epoch 69/100\n",
      "1302/1302 [==============================] - 1s 935us/step - loss: 0.0017\n",
      "Epoch 70/100\n",
      "1302/1302 [==============================] - 1s 946us/step - loss: 0.0018\n",
      "Epoch 71/100\n",
      "1302/1302 [==============================] - 1s 925us/step - loss: 0.0020\n",
      "Epoch 72/100\n",
      "1302/1302 [==============================] - 1s 955us/step - loss: 0.0017\n",
      "Epoch 73/100\n",
      "1302/1302 [==============================] - 1s 931us/step - loss: 0.0018\n",
      "Epoch 74/100\n",
      "1302/1302 [==============================] - 1s 961us/step - loss: 0.0019\n",
      "Epoch 75/100\n",
      "1302/1302 [==============================] - 1s 903us/step - loss: 0.0018\n",
      "Epoch 76/100\n",
      "1302/1302 [==============================] - 1s 993us/step - loss: 0.0017\n",
      "Epoch 77/100\n",
      "1302/1302 [==============================] - 1s 964us/step - loss: 0.0017\n",
      "Epoch 78/100\n",
      "1302/1302 [==============================] - 1s 997us/step - loss: 0.0017\n",
      "Epoch 79/100\n",
      "1302/1302 [==============================] - 1s 894us/step - loss: 0.0017\n",
      "Epoch 80/100\n",
      "1302/1302 [==============================] - 1s 861us/step - loss: 0.0017\n",
      "Epoch 81/100\n",
      "1302/1302 [==============================] - 1s 876us/step - loss: 0.0016\n",
      "Epoch 82/100\n",
      "1302/1302 [==============================] - 1s 892us/step - loss: 0.0018\n",
      "Epoch 83/100\n",
      "1302/1302 [==============================] - 1s 892us/step - loss: 0.0015\n",
      "Epoch 84/100\n",
      "1302/1302 [==============================] - 1s 888us/step - loss: 0.0017\n",
      "Epoch 85/100\n",
      "1302/1302 [==============================] - 1s 1ms/step - loss: 0.0016\n",
      "Epoch 86/100\n",
      "1302/1302 [==============================] - 1s 1ms/step - loss: 0.0015\n",
      "Epoch 87/100\n",
      "1302/1302 [==============================] - 1s 988us/step - loss: 0.0016\n",
      "Epoch 88/100\n",
      "1302/1302 [==============================] - 1s 956us/step - loss: 0.0016\n",
      "Epoch 89/100\n",
      "1302/1302 [==============================] - 1s 955us/step - loss: 0.0014\n",
      "Epoch 90/100\n",
      "1302/1302 [==============================] - 1s 920us/step - loss: 0.0016\n",
      "Epoch 91/100\n",
      "1302/1302 [==============================] - 1s 943us/step - loss: 0.0015\n",
      "Epoch 92/100\n",
      "1302/1302 [==============================] - 1s 944us/step - loss: 0.0015\n",
      "Epoch 93/100\n",
      "1302/1302 [==============================] - 1s 945us/step - loss: 0.0014\n",
      "Epoch 94/100\n",
      "1302/1302 [==============================] - 1s 941us/step - loss: 0.0014\n",
      "Epoch 95/100\n",
      "1302/1302 [==============================] - 1s 955us/step - loss: 0.0014\n",
      "Epoch 96/100\n",
      "1302/1302 [==============================] - 1s 1ms/step - loss: 0.0014A: 1s\n",
      "Epoch 97/100\n",
      "1302/1302 [==============================] - 1s 987us/step - loss: 0.0014\n",
      "Epoch 98/100\n",
      "1302/1302 [==============================] - 1s 950us/step - loss: 0.0015\n",
      "Epoch 99/100\n",
      "1302/1302 [==============================] - 1s 1ms/step - loss: 0.0015\n",
      "Epoch 100/100\n",
      "1302/1302 [==============================] - 1s 1ms/step - loss: 0.0014\n"
     ]
    },
    {
     "data": {
      "text/plain": [
       "<keras.callbacks.History at 0x1a3aca02b0>"
      ]
     },
     "execution_count": 13,
     "metadata": {},
     "output_type": "execute_result"
    }
   ],
   "source": [
    "# Compiling\n",
    "regressor.compile(optimizer = 'adam', loss = 'mean_squared_error')\n",
    "\n",
    "# 進行訓練\n",
    "regressor.fit(X_train, y_train, epochs = 100, batch_size = 32)"
   ]
  },
  {
   "cell_type": "code",
   "execution_count": 14,
   "metadata": {},
   "outputs": [],
   "source": [
    "predicted_stock_price = regressor.predict(X_test)\n",
    "real_stock_price = y_test"
   ]
  },
  {
   "cell_type": "code",
   "execution_count": 15,
   "metadata": {},
   "outputs": [
    {
     "data": {
      "image/png": "[encoded data removed]",
      "text/plain": [
       "<Figure size 432x288 with 1 Axes>"
      ]
     },
     "metadata": {
      "needs_background": "light"
     },
     "output_type": "display_data"
    }
   ],
   "source": [
    "# Visualising the results\n",
    "plt.plot(real_stock_price, color = 'red', label = 'Real Stock Price')  # 紅線表示真實股價\n",
    "plt.plot(predicted_stock_price, color = 'blue', label = 'Predicted Stock Price')  # 藍線表示預測股價\n",
    "plt.title('0050 Stock Price Prediction')\n",
    "plt.xlabel('Time')\n",
    "plt.ylabel('Stock Price')\n",
    "plt.legend()\n",
    "plt.show()"
   ]
  },
  {
   "cell_type": "code",
   "execution_count": 16,
   "metadata": {},
   "outputs": [
    {
     "name": "stdout",
     "output_type": "stream",
     "text": [
      "(1372, 5)\n"
     ]
    }
   ],
   "source": [
    "# df_train = df_0050.append(df_2317)\n",
    "# df_train = df_train.append(df_2330)\n",
    "df_train = df_2317\n",
    "print(df_train.shape)"
   ]
  },
  {
   "cell_type": "code",
   "execution_count": 17,
   "metadata": {},
   "outputs": [
    {
     "name": "stdout",
     "output_type": "stream",
     "text": [
      "      startPrice  lowPrice  highPrice  endPrice\n",
      "0           89.5      88.6       89.9      88.7\n",
      "1           89.4      88.7       89.7      89.1\n",
      "2           88.3      87.8       88.9      88.0\n",
      "3           88.0      86.7       88.0      86.8\n",
      "4           86.8      86.5       87.5      87.0\n",
      "5           87.8      87.2       88.5      87.8\n",
      "6           88.4      87.4       88.6      88.6\n",
      "7           89.5      88.6       89.7      88.6\n",
      "8           88.4      86.6       88.5      87.2\n",
      "9           86.5      84.0       86.5      84.2\n",
      "10          83.5      83.2       85.1      84.0\n",
      "11          85.0      83.7       85.3      83.9\n",
      "12          84.9      84.5       85.4      85.4\n",
      "13          85.0      84.4       85.2      84.6\n",
      "14          84.8      84.7       85.9      85.4\n",
      "15          86.2      85.0       86.2      85.0\n",
      "16          83.5      82.3       83.6      82.5\n",
      "17          82.3      82.2       83.4      83.4\n",
      "18          83.3      83.3       83.8      83.6\n",
      "19          84.0      83.9       85.0      84.9\n",
      "20          85.3      84.8       85.4      84.9\n",
      "21          84.3      84.3       84.9      84.4\n",
      "22          84.5      84.1       85.0      84.6\n",
      "23          84.5      83.8       84.5      84.0\n",
      "24          83.5      82.8       83.5      83.1\n",
      "25          83.5      83.1       84.5      83.6\n",
      "26          84.8      82.7       84.8      82.8\n",
      "27          83.9      83.4       84.4      84.1\n",
      "28          84.5      84.2       85.1      84.8\n",
      "29          84.7      83.2       84.8      83.2\n",
      "...          ...       ...        ...       ...\n",
      "1342        81.1      80.9       81.5      80.9\n",
      "1343        80.9      80.3       81.1      80.5\n",
      "1344        81.1      81.0       83.2      83.2\n",
      "1345        83.3      81.0       83.3      81.0\n",
      "1346        81.1      80.5       81.7      80.7\n",
      "1347        80.8      80.8       81.6      81.6\n",
      "1348        81.7      81.0       81.8      81.2\n",
      "1349        80.9      80.2       81.2      80.5\n",
      "1350        81.4      80.7       81.6      80.8\n",
      "1351        81.2      80.3       81.3      80.5\n",
      "1352        80.6      80.6       82.0      81.6\n",
      "1353        80.8      80.8       81.8      81.2\n",
      "1354        81.7      81.7       82.9      82.9\n",
      "1355        83.0      82.8       83.4      82.8\n",
      "1356        82.9      82.5       83.5      82.9\n",
      "1357        83.8      83.4       84.4      84.1\n",
      "1358        84.5      84.3       85.2      85.2\n",
      "1359        85.5      84.2       85.8      85.3\n",
      "1360        85.6      84.9       85.7      85.5\n",
      "1361        85.1      85.0       86.0      85.2\n",
      "1362        82.8      82.4       83.2      82.7\n",
      "1363        82.5      82.2       83.5      83.5\n",
      "1364        83.3      83.0       83.7      83.2\n",
      "1365        83.4      83.1       84.3      84.2\n",
      "1366        83.6      83.4       84.0      83.8\n",
      "1367        83.9      83.5       84.3      84.1\n",
      "1368        84.5      82.6       84.5      82.8\n",
      "1369        83.6      83.0       83.8      83.8\n",
      "1370        83.6      83.6       84.9      84.6\n",
      "1371        85.2      84.4       85.2      84.4\n",
      "\n",
      "[1372 rows x 4 columns]\n",
      "0       88.7\n",
      "1       89.1\n",
      "2       88.0\n",
      "3       86.8\n",
      "4       87.0\n",
      "5       87.8\n",
      "6       88.6\n",
      "7       88.6\n",
      "8       87.2\n",
      "9       84.2\n",
      "10      84.0\n",
      "11      83.9\n",
      "12      85.4\n",
      "13      84.6\n",
      "14      85.4\n",
      "15      85.0\n",
      "16      82.5\n",
      "17      83.4\n",
      "18      83.6\n",
      "19      84.9\n",
      "20      84.9\n",
      "21      84.4\n",
      "22      84.6\n",
      "23      84.0\n",
      "24      83.1\n",
      "25      83.6\n",
      "26      82.8\n",
      "27      84.1\n",
      "28      84.8\n",
      "29      83.2\n",
      "        ... \n",
      "1342    80.9\n",
      "1343    80.5\n",
      "1344    83.2\n",
      "1345    81.0\n",
      "1346    80.7\n",
      "1347    81.6\n",
      "1348    81.2\n",
      "1349    80.5\n",
      "1350    80.8\n",
      "1351    80.5\n",
      "1352    81.6\n",
      "1353    81.2\n",
      "1354    82.9\n",
      "1355    82.8\n",
      "1356    82.9\n",
      "1357    84.1\n",
      "1358    85.2\n",
      "1359    85.3\n",
      "1360    85.5\n",
      "1361    85.2\n",
      "1362    82.7\n",
      "1363    83.5\n",
      "1364    83.2\n",
      "1365    84.2\n",
      "1366    83.8\n",
      "1367    84.1\n",
      "1368    82.8\n",
      "1369    83.8\n",
      "1370    84.6\n",
      "1371    84.4\n",
      "Name: endPrice, Length: 1372, dtype: float64\n"
     ]
    }
   ],
   "source": [
    "df_train.reset_index(inplace=True, drop=True)\n",
    "df_train[\"date\"] = pd.to_datetime(df_train[\"date\"])\n",
    "df_train = df_train.drop([\"date\"], axis=1)\n",
    "print(df_train)\n",
    "df_test = df_train['endPrice']\n",
    "print(df_test)"
   ]
  },
  {
   "cell_type": "code",
   "execution_count": 18,
   "metadata": {},
   "outputs": [
    {
     "name": "stdout",
     "output_type": "stream",
     "text": [
      "[[0.38330171 0.39053254 0.37667304 0.3631068 ]\n",
      " [0.38140417 0.39250493 0.37284895 0.37087379]\n",
      " [0.36053131 0.37475345 0.35755258 0.34951456]\n",
      " ...\n",
      " [0.27134725 0.2800789  0.26003824 0.26796117]\n",
      " [0.27134725 0.29191321 0.28107075 0.28349515]\n",
      " [0.30170778 0.30769231 0.28680688 0.27961165]]\n",
      "[[0.3631068 ]\n",
      " [0.37087379]\n",
      " [0.34951456]\n",
      " ...\n",
      " [0.26796117]\n",
      " [0.28349515]\n",
      " [0.27961165]]\n"
     ]
    }
   ],
   "source": [
    "# Feature Scaling\n",
    "from sklearn.preprocessing import MinMaxScaler\n",
    "\n",
    "sc = MinMaxScaler(feature_range = (0, 1))\n",
    "df_train = sc.fit_transform(df_train)\n",
    "df_test = np.array(df_test).reshape(-1, 1)\n",
    "df_test = sc.fit_transform(df_test)\n",
    "print(df_train)\n",
    "print(df_test)"
   ]
  },
  {
   "cell_type": "code",
   "execution_count": 19,
   "metadata": {},
   "outputs": [
    {
     "name": "stdout",
     "output_type": "stream",
     "text": [
      "[[[0.38330171 0.39053254 0.37667304 0.3631068 ]\n",
      "  [0.38140417 0.39250493 0.37284895 0.37087379]\n",
      "  [0.36053131 0.37475345 0.35755258 0.34951456]]\n",
      "\n",
      " [[0.38140417 0.39250493 0.37284895 0.37087379]\n",
      "  [0.36053131 0.37475345 0.35755258 0.34951456]\n",
      "  [0.35483871 0.3530572  0.34034417 0.32621359]]\n",
      "\n",
      " [[0.36053131 0.37475345 0.35755258 0.34951456]\n",
      "  [0.35483871 0.3530572  0.34034417 0.32621359]\n",
      "  [0.33206831 0.34911243 0.33078394 0.33009709]]\n",
      "\n",
      " ...\n",
      "\n",
      " [[0.27134725 0.28796844 0.26386233 0.26796117]\n",
      "  [0.27703985 0.28994083 0.26959847 0.27378641]\n",
      "  [0.28842505 0.27218935 0.27342256 0.24854369]]\n",
      "\n",
      " [[0.27703985 0.28994083 0.26959847 0.27378641]\n",
      "  [0.28842505 0.27218935 0.27342256 0.24854369]\n",
      "  [0.27134725 0.2800789  0.26003824 0.26796117]]\n",
      "\n",
      " [[0.28842505 0.27218935 0.27342256 0.24854369]\n",
      "  [0.27134725 0.2800789  0.26003824 0.26796117]\n",
      "  [0.27134725 0.29191321 0.28107075 0.28349515]]]\n"
     ]
    }
   ],
   "source": [
    "X = []\n",
    "y = []\n",
    "for i in range(0, len(df_train)-3):\n",
    "    X.append(df_train[i:i+3])\n",
    "    y.append(df_test[i+3])\n",
    "\n",
    "X = np.array(X)\n",
    "y = np.array(y)\n",
    "print(X)"
   ]
  },
  {
   "cell_type": "code",
   "execution_count": 20,
   "metadata": {},
   "outputs": [],
   "source": [
    "X_train = X[int(X.shape[0]*rate):]\n",
    "y_train = y[int(y.shape[0]*rate):]\n",
    "X_test = X[:int(X.shape[0]*rate)]\n",
    "y_test = y[:int(y.shape[0]*rate)]"
   ]
  },
  {
   "cell_type": "code",
   "execution_count": 21,
   "metadata": {},
   "outputs": [],
   "source": [
    "predicted_stock_price = regressor.predict(X_test)\n",
    "real_stock_price = y_test"
   ]
  },
  {
   "cell_type": "code",
   "execution_count": 22,
   "metadata": {},
   "outputs": [
    {
     "data": {
      "image/png": "[encoded data removed]",
      "text/plain": [
       "<Figure size 432x288 with 1 Axes>"
      ]
     },
     "metadata": {
      "needs_background": "light"
     },
     "output_type": "display_data"
    }
   ],
   "source": [
    "# Visualising the results\n",
    "plt.plot(real_stock_price, color = 'red', label = 'Real Stock Price')  # 紅線表示真實股價\n",
    "plt.plot(predicted_stock_price, color = 'blue', label = 'Predicted Stock Price')  # 藍線表示預測股價\n",
    "plt.title('2317 Stock Price Prediction')\n",
    "plt.xlabel('Time')\n",
    "plt.ylabel('Stock Price')\n",
    "plt.legend()\n",
    "plt.show()"
   ]
  },
  {
   "cell_type": "code",
   "execution_count": 23,
   "metadata": {},
   "outputs": [
    {
     "name": "stdout",
     "output_type": "stream",
     "text": [
      "(1373, 5)\n"
     ]
    }
   ],
   "source": [
    "# df_train = df_0050.append(df_2317)\n",
    "# df_train = df_train.append(df_2330)\n",
    "df_train = df_2330\n",
    "print(df_train.shape)"
   ]
  },
  {
   "cell_type": "code",
   "execution_count": 24,
   "metadata": {},
   "outputs": [
    {
     "name": "stdout",
     "output_type": "stream",
     "text": [
      "      startPrice  lowPrice  highPrice  endPrice\n",
      "0           97.6      97.1       99.9      99.6\n",
      "1          100.5     100.0      102.0     101.0\n",
      "2          100.5     100.0      101.5     101.5\n",
      "3          101.0      99.1      101.0     100.5\n",
      "4           99.6      98.9      100.0      99.7\n",
      "5          100.5      99.2      100.5     100.0\n",
      "6           99.9      99.5      101.0     101.0\n",
      "7          101.5     100.5      101.5     101.0\n",
      "8          101.0     100.0      102.0     102.0\n",
      "9          102.0      99.8      102.0     100.5\n",
      "10         100.5      99.2      100.5      99.2\n",
      "11         100.5      98.5      101.0      99.3\n",
      "12         101.5     100.5      101.5     101.5\n",
      "13         101.0     100.0      101.0     100.5\n",
      "14         101.0      99.9      101.0     101.0\n",
      "15         101.5     100.0      101.5     101.0\n",
      "16         100.0      99.2      100.5      99.9\n",
      "17          99.9      98.0       99.9      99.0\n",
      "18          98.7      98.6       99.5      99.3\n",
      "19         100.0      99.7      101.5     101.0\n",
      "20         102.0     100.5      102.0     101.5\n",
      "21         100.5     100.0      101.5     101.5\n",
      "22         101.5     100.5      101.5     101.5\n",
      "23         102.0     102.0      103.0     103.0\n",
      "24         103.0     101.5      103.0     103.0\n",
      "25         103.5     103.0      105.0     105.0\n",
      "26         107.0     106.5      108.5     107.0\n",
      "27         108.5     106.5      108.5     107.0\n",
      "28         108.5     108.0      109.5     109.0\n",
      "29         108.5     107.0      108.5     107.0\n",
      "...          ...       ...        ...       ...\n",
      "1343       216.0     212.5      216.0     213.0\n",
      "1344       211.0     210.0      214.5     212.0\n",
      "1345       212.0     212.0      217.0     216.5\n",
      "1346       218.5     214.0      219.0     214.0\n",
      "1347       215.5     213.5      218.0     214.5\n",
      "1348       217.0     215.5      217.5     216.0\n",
      "1349       214.0     213.0      215.0     214.5\n",
      "1350       217.5     215.0      217.5     217.0\n",
      "1351       219.5     218.5      223.0     221.5\n",
      "1352       223.0     222.0      224.0     222.0\n",
      "1353       220.0     218.0      220.0     220.0\n",
      "1354       218.0     218.0      222.0     220.5\n",
      "1355       222.5     222.5      224.5     224.5\n",
      "1356       224.5     223.5      225.0     223.5\n",
      "1357       222.5     221.0      223.5     221.5\n",
      "1358       223.0     222.0      224.0     223.0\n",
      "1359       225.5     224.5      227.0     224.5\n",
      "1360       235.0     233.0      237.5     237.5\n",
      "1361       239.0     238.5      245.0     241.0\n",
      "1362       240.0     238.5      241.5     241.0\n",
      "1363       239.0     239.0      241.0     240.5\n",
      "1364       241.0     239.5      242.5     241.0\n",
      "1365       242.0     241.0      244.5     244.5\n",
      "1366       244.5     244.0      245.5     245.5\n",
      "1367       243.5     242.0      246.0     246.0\n",
      "1368       247.0     246.5      248.0     248.0\n",
      "1369       249.0     243.5      249.5     244.5\n",
      "1370       246.0     245.0      248.0     247.0\n",
      "1371       245.0     244.0      247.0     245.5\n",
      "1372       245.0     241.5      245.5     241.5\n",
      "\n",
      "[1373 rows x 4 columns]\n",
      "0        99.6\n",
      "1       101.0\n",
      "2       101.5\n",
      "3       100.5\n",
      "4        99.7\n",
      "5       100.0\n",
      "6       101.0\n",
      "7       101.0\n",
      "8       102.0\n",
      "9       100.5\n",
      "10       99.2\n",
      "11       99.3\n",
      "12      101.5\n",
      "13      100.5\n",
      "14      101.0\n",
      "15      101.0\n",
      "16       99.9\n",
      "17       99.0\n",
      "18       99.3\n",
      "19      101.0\n",
      "20      101.5\n",
      "21      101.5\n",
      "22      101.5\n",
      "23      103.0\n",
      "24      103.0\n",
      "25      105.0\n",
      "26      107.0\n",
      "27      107.0\n",
      "28      109.0\n",
      "29      107.0\n",
      "        ...  \n",
      "1343    213.0\n",
      "1344    212.0\n",
      "1345    216.5\n",
      "1346    214.0\n",
      "1347    214.5\n",
      "1348    216.0\n",
      "1349    214.5\n",
      "1350    217.0\n",
      "1351    221.5\n",
      "1352    222.0\n",
      "1353    220.0\n",
      "1354    220.5\n",
      "1355    224.5\n",
      "1356    223.5\n",
      "1357    221.5\n",
      "1358    223.0\n",
      "1359    224.5\n",
      "1360    237.5\n",
      "1361    241.0\n",
      "1362    241.0\n",
      "1363    240.5\n",
      "1364    241.0\n",
      "1365    244.5\n",
      "1366    245.5\n",
      "1367    246.0\n",
      "1368    248.0\n",
      "1369    244.5\n",
      "1370    247.0\n",
      "1371    245.5\n",
      "1372    241.5\n",
      "Name: endPrice, Length: 1373, dtype: float64\n"
     ]
    }
   ],
   "source": [
    "df_train.reset_index(inplace=True, drop=True)\n",
    "df_train[\"date\"] = pd.to_datetime(df_train[\"date\"])\n",
    "df_train = df_train.drop([\"date\"], axis=1)\n",
    "print(df_train)\n",
    "df_test = df_train['endPrice']\n",
    "print(df_test)"
   ]
  },
  {
   "cell_type": "code",
   "execution_count": 25,
   "metadata": {},
   "outputs": [
    {
     "name": "stdout",
     "output_type": "stream",
     "text": [
      "[[0.02705882 0.02476415 0.02922268 0.03030303]\n",
      " [0.04411765 0.04186321 0.0414962  0.03846154]\n",
      " [0.04411765 0.04186321 0.03857393 0.04137529]\n",
      " ...\n",
      " [0.9        0.89681604 0.89479836 0.88927739]\n",
      " [0.89411765 0.89091981 0.88895383 0.88053613]\n",
      " [0.89411765 0.87617925 0.88018703 0.85722611]]\n",
      "[[0.03030303]\n",
      " [0.03846154]\n",
      " [0.04137529]\n",
      " ...\n",
      " [0.88927739]\n",
      " [0.88053613]\n",
      " [0.85722611]]\n"
     ]
    }
   ],
   "source": [
    "# Feature Scaling\n",
    "from sklearn.preprocessing import MinMaxScaler\n",
    "\n",
    "sc = MinMaxScaler(feature_range = (0, 1))\n",
    "df_train = sc.fit_transform(df_train)\n",
    "df_test = np.array(df_test).reshape(-1, 1)\n",
    "df_test = sc.fit_transform(df_test)\n",
    "print(df_train)\n",
    "print(df_test)"
   ]
  },
  {
   "cell_type": "code",
   "execution_count": 26,
   "metadata": {},
   "outputs": [
    {
     "name": "stdout",
     "output_type": "stream",
     "text": [
      "[[[0.02705882 0.02476415 0.02922268 0.03030303]\n",
      "  [0.04411765 0.04186321 0.0414962  0.03846154]\n",
      "  [0.04411765 0.04186321 0.03857393 0.04137529]]\n",
      "\n",
      " [[0.04411765 0.04186321 0.0414962  0.03846154]\n",
      "  [0.04411765 0.04186321 0.03857393 0.04137529]\n",
      "  [0.04705882 0.0365566  0.03565167 0.03554779]]\n",
      "\n",
      " [[0.04411765 0.04186321 0.03857393 0.04137529]\n",
      "  [0.04705882 0.0365566  0.03565167 0.03554779]\n",
      "  [0.03882353 0.03537736 0.02980713 0.03088578]]\n",
      "\n",
      " ...\n",
      "\n",
      " [[0.88529412 0.87912736 0.88310929 0.88344988]\n",
      "  [0.90588235 0.90566038 0.89479836 0.8951049 ]\n",
      "  [0.91764706 0.8879717  0.90356517 0.87470862]]\n",
      "\n",
      " [[0.90588235 0.90566038 0.89479836 0.8951049 ]\n",
      "  [0.91764706 0.8879717  0.90356517 0.87470862]\n",
      "  [0.9        0.89681604 0.89479836 0.88927739]]\n",
      "\n",
      " [[0.91764706 0.8879717  0.90356517 0.87470862]\n",
      "  [0.9        0.89681604 0.89479836 0.88927739]\n",
      "  [0.89411765 0.89091981 0.88895383 0.88053613]]]\n"
     ]
    }
   ],
   "source": [
    "X = []\n",
    "y = []\n",
    "for i in range(0, len(df_train)-3):\n",
    "    X.append(df_train[i:i+3])\n",
    "    y.append(df_test[i+3])\n",
    "\n",
    "X = np.array(X)\n",
    "y = np.array(y)\n",
    "print(X)"
   ]
  },
  {
   "cell_type": "code",
   "execution_count": 27,
   "metadata": {},
   "outputs": [],
   "source": [
    "X_train = X[int(X.shape[0]*rate):]\n",
    "y_train = y[int(y.shape[0]*rate):]\n",
    "X_test = X[:int(X.shape[0]*rate)]\n",
    "y_test = y[:int(y.shape[0]*rate)]"
   ]
  },
  {
   "cell_type": "code",
   "execution_count": 28,
   "metadata": {},
   "outputs": [],
   "source": [
    "predicted_stock_price = regressor.predict(X_test)\n",
    "real_stock_price = y_test"
   ]
  },
  {
   "cell_type": "code",
   "execution_count": 29,
   "metadata": {},
   "outputs": [
    {
     "data": {
      "image/png": "[encoded data removed]",
      "text/plain": [
       "<Figure size 432x288 with 1 Axes>"
      ]
     },
     "metadata": {
      "needs_background": "light"
     },
     "output_type": "display_data"
    }
   ],
   "source": [
    "# Visualising the results\n",
    "plt.plot(real_stock_price, color = 'red', label = 'Real Stock Price')  # 紅線表示真實股價\n",
    "plt.plot(predicted_stock_price, color = 'blue', label = 'Predicted Stock Price')  # 藍線表示預測股價\n",
    "plt.title('2330 Stock Price Prediction')\n",
    "plt.xlabel('Time')\n",
    "plt.ylabel('Stock Price')\n",
    "plt.legend()\n",
    "plt.show()"
   ]
  }
 ],
 "metadata": {
  "kernelspec": {
   "display_name": "Python 3",
   "language": "python",
   "name": "python3"
  },
  "language_info": {
   "codemirror_mode": {
    "name": "ipython",
    "version": 3
   },
   "file_extension": ".py",
   "mimetype": "text/x-python",
   "name": "python",
   "nbconvert_exporter": "python",
   "pygments_lexer": "ipython3",
   "version": "3.6.8"
  }
 },
 "nbformat": 4,
 "nbformat_minor": 2
}
